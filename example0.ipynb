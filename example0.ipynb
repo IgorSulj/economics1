{
 "cells": [
  {
   "cell_type": "code",
   "execution_count": 2,
   "metadata": {},
   "outputs": [],
   "source": [
    "import numpy as np"
   ]
  },
  {
   "cell_type": "code",
   "execution_count": 3,
   "metadata": {},
   "outputs": [],
   "source": [
    "A = np.array([\n",
    "    [1, 2],\n",
    "    [3, 4]\n",
    "])\n",
    "T = np.array([\n",
    "    [1, 1],\n",
    "    [1, 2]\n",
    "])"
   ]
  },
  {
   "cell_type": "code",
   "execution_count": 4,
   "metadata": {},
   "outputs": [],
   "source": [
    "inv_T = np.linalg.inv(T)"
   ]
  },
  {
   "cell_type": "code",
   "execution_count": 5,
   "metadata": {},
   "outputs": [
    {
     "name": "stdout",
     "output_type": "stream",
     "text": [
      "[[0. 0.]\n",
      " [0. 0.]]\n"
     ]
    }
   ],
   "source": [
    "new_A = np.zeros((2, 2))\n",
    "print(new_A)"
   ]
  },
  {
   "cell_type": "code",
   "execution_count": 6,
   "metadata": {},
   "outputs": [
    {
     "name": "stdout",
     "output_type": "stream",
     "text": [
      "[[2. 0.]\n",
      " [0. 0.]]\n"
     ]
    }
   ],
   "source": [
    "new_A[0, 0] = T[0, 0] * inv_T[0, 0] * A[0, 0]\n",
    "new_A[0, 0] += T[0, 1] * inv_T[0, 0] * A[1, 0]\n",
    "new_A[0, 0] += T[0, 0] * inv_T[1, 0] * A[0, 1]\n",
    "new_A[0, 0] += T[0, 1] * inv_T[1, 0] * A[1, 1]\n",
    "print(new_A)"
   ]
  },
  {
   "cell_type": "code",
   "execution_count": 7,
   "metadata": {},
   "outputs": [
    {
     "data": {
      "text/plain": [
       "3.0"
      ]
     },
     "execution_count": 7,
     "metadata": {},
     "output_type": "execute_result"
    }
   ],
   "source": [
    "T[1, 0] * (inv_T[0, 1] * A[0, 0] + inv_T[1, 1] * A[0, 1]) \\\n",
    "    + T[1, 1] * (inv_T[0, 1] * A[1, 0] + inv_T[1, 1] * A[1, 1])"
   ]
  }
 ],
 "metadata": {
  "kernelspec": {
   "display_name": "Python 3.9.7 64-bit",
   "language": "python",
   "name": "python3"
  },
  "language_info": {
   "codemirror_mode": {
    "name": "ipython",
    "version": 3
   },
   "file_extension": ".py",
   "mimetype": "text/x-python",
   "name": "python",
   "nbconvert_exporter": "python",
   "pygments_lexer": "ipython3",
   "version": "3.9.7"
  },
  "orig_nbformat": 4,
  "vscode": {
   "interpreter": {
    "hash": "463c90d9fa99ace8fcfa4ae88d83387c9bd24a41b2fbbf1969a478a7db677338"
   }
  }
 },
 "nbformat": 4,
 "nbformat_minor": 2
}
