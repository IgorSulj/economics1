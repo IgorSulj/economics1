{
 "cells": [
  {
   "cell_type": "code",
   "execution_count": 9,
   "metadata": {},
   "outputs": [],
   "source": [
    "import numpy as np\n",
    "from utils import per_layer_multiply, comparator\n",
    "from fractions import Fraction"
   ]
  },
  {
   "cell_type": "code",
   "execution_count": 10,
   "metadata": {},
   "outputs": [
    {
     "name": "stdout",
     "output_type": "stream",
     "text": [
      "[[0.1        0.45       0.3125    ]\n",
      " [0.2        0.25       0.16666667]\n",
      " [0.32       0.24       0.3       ]]\n"
     ]
    }
   ],
   "source": [
    "A = np.array([\n",
    "    [0.1, 0.3, 0.25],\n",
    "    [0.3, 0.25, 0.2],\n",
    "    [0.4, 0.2, 0.3]\n",
    "])\n",
    "\n",
    "T = np.array([\n",
    "    [1, 0, 0],\n",
    "    [0, 1.5, 0],\n",
    "    [0, 0, 1.25]\n",
    "])\n",
    "\n",
    "A = np.linalg.inv(T) @ A @ T\n",
    "\n",
    "print(A)"
   ]
  },
  {
   "cell_type": "code",
   "execution_count": 11,
   "metadata": {},
   "outputs": [
    {
     "name": "stdout",
     "output_type": "stream",
     "text": [
      "[[[0.1        0.45       0.3125    ]\n",
      "  [0.2        0.25       0.16666667]\n",
      "  [0.32       0.24       0.3       ]]\n",
      "\n",
      " [[0.1        0.45       0.3125    ]\n",
      "  [0.2        0.25       0.16666667]\n",
      "  [0.32       0.24       0.3       ]]\n",
      "\n",
      " [[0.1        0.45       0.3125    ]\n",
      "  [0.2        0.25       0.16666667]\n",
      "  [0.256      0.192      0.24      ]]\n",
      "\n",
      " [[0.1        0.45       0.3125    ]\n",
      "  [0.2        0.25       0.16666667]\n",
      "  [0.32       0.24       0.3       ]]]\n"
     ]
    }
   ],
   "source": [
    "new_A = np.array([A] * 4)\n",
    "new_A[2, 2] *= 0.8 \n",
    "print(new_A)"
   ]
  },
  {
   "cell_type": "code",
   "execution_count": 12,
   "metadata": {},
   "outputs": [
    {
     "name": "stdout",
     "output_type": "stream",
     "text": [
      "[[[0.1        0.45       0.3125    ]\n",
      "  [0.2        0.25       0.16666667]\n",
      "  [0.32       0.24       0.3       ]]\n",
      "\n",
      " [[0.1        0.45       0.3125    ]\n",
      "  [0.2        0.25       0.16666667]\n",
      "  [0.32       0.24       0.3       ]]\n",
      "\n",
      " [[0.1        0.45       0.3125    ]\n",
      "  [0.2        0.25       0.16666667]\n",
      "  [0.256      0.192      0.24      ]]\n",
      "\n",
      " [[0.085      0.45       0.3125    ]\n",
      "  [0.17       0.25       0.16666667]\n",
      "  [0.272      0.24       0.3       ]]]\n"
     ]
    }
   ],
   "source": [
    "new_A[3,:,0] *= 0.85\n",
    "print(new_A)"
   ]
  },
  {
   "cell_type": "code",
   "execution_count": 13,
   "metadata": {},
   "outputs": [],
   "source": [
    "X = np.array([\n",
    "    [1, 1, 1],\n",
    "    [1.1, 1.1, 1],\n",
    "    [1, 1, 1],\n",
    "    [1.15, 1, 1]\n",
    "])"
   ]
  },
  {
   "cell_type": "code",
   "execution_count": 14,
   "metadata": {},
   "outputs": [
    {
     "name": "stdout",
     "output_type": "stream",
     "text": [
      "[[0.1375     0.1825     0.1375     0.28975   ]\n",
      " [0.38333333 0.43833333 0.38333333 0.38783333]\n",
      " [0.14       0.084      0.312      0.1472    ]]\n"
     ]
    }
   ],
   "source": [
    "Y = X - per_layer_multiply(new_A, X)\n",
    "Y = Y.T\n",
    "print(Y)"
   ]
  },
  {
   "cell_type": "code",
   "execution_count": 15,
   "metadata": {},
   "outputs": [
    {
     "name": "stdout",
     "output_type": "stream",
     "text": [
      "[0.66083333 0.70483333 0.83283333 0.82478333]\n",
      "[1.         1.0665826  1.26027743 1.24809584]\n"
     ]
    }
   ],
   "source": [
    "SY = np.array([1, 1, 1]) @ Y\n",
    "CSY = SY / SY[0]\n",
    "print(SY)\n",
    "print(CSY)"
   ]
  },
  {
   "cell_type": "code",
   "execution_count": 16,
   "metadata": {},
   "outputs": [
    {
     "data": {
      "text/plain": [
       "array([0.1825    , 0.43833333, 0.084     ])"
      ]
     },
     "execution_count": 16,
     "metadata": {},
     "output_type": "execute_result"
    }
   ],
   "source": [
    "X[1] - new_A[1]@X[1]"
   ]
  }
 ],
 "metadata": {
  "kernelspec": {
   "display_name": "Python 3.9.7 64-bit",
   "language": "python",
   "name": "python3"
  },
  "language_info": {
   "codemirror_mode": {
    "name": "ipython",
    "version": 3
   },
   "file_extension": ".py",
   "mimetype": "text/x-python",
   "name": "python",
   "nbconvert_exporter": "python",
   "pygments_lexer": "ipython3",
   "version": "3.9.7"
  },
  "orig_nbformat": 4,
  "vscode": {
   "interpreter": {
    "hash": "463c90d9fa99ace8fcfa4ae88d83387c9bd24a41b2fbbf1969a478a7db677338"
   }
  }
 },
 "nbformat": 4,
 "nbformat_minor": 2
}
