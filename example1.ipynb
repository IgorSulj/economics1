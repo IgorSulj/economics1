{
 "cells": [
  {
   "cell_type": "code",
   "execution_count": 1,
   "metadata": {},
   "outputs": [],
   "source": [
    "import numpy as np\n",
    "from utils import *"
   ]
  },
  {
   "cell_type": "code",
   "execution_count": 2,
   "metadata": {},
   "outputs": [],
   "source": [
    "A = np.array([\n",
    "    [\n",
    "        [0.2, 0.05, 0.25],\n",
    "        [0.1, 0.15, 0.3],\n",
    "        [0.3, 0.4, 0.2]\n",
    "    ],\n",
    "    [\n",
    "        [0.2, 0.05, 0.25],\n",
    "        [0.1, 0.15, 0.3],\n",
    "        [0.27, 0.36, 0.18]\n",
    "    ]\n",
    "])\n",
    "\n",
    "X = np.array([\n",
    "    [15, 10, 20],\n",
    "    [15, 10, 20]\n",
    "])\n",
    "\n",
    "E = np.diag(np.ones(3))\n",
    "E = np.array([E for i in range(2)])"
   ]
  },
  {
   "cell_type": "code",
   "execution_count": 3,
   "metadata": {},
   "outputs": [
    {
     "name": "stdout",
     "output_type": "stream",
     "text": [
      "[[6.5  6.5 ]\n",
      " [1.   1.  ]\n",
      " [7.5  8.75]]\n"
     ]
    }
   ],
   "source": [
    "Y = per_layer_multiply(E - A, X).T\n",
    "print(Y)"
   ]
  },
  {
   "cell_type": "code",
   "execution_count": 4,
   "metadata": {},
   "outputs": [
    {
     "name": "stdout",
     "output_type": "stream",
     "text": [
      "[[1.         1.        ]\n",
      " [1.         1.        ]\n",
      " [1.         1.16666667]]\n"
     ]
    }
   ],
   "source": [
    "C = np.diag(Y[:,0] ** -1)\n",
    "compared_y = C @ Y\n",
    "print(compared_y)"
   ]
  },
  {
   "cell_type": "code",
   "execution_count": 5,
   "metadata": {},
   "outputs": [
    {
     "name": "stdout",
     "output_type": "stream",
     "text": [
      "[15.   16.25]\n",
      "[1.         1.08333333]\n"
     ]
    }
   ],
   "source": [
    "S = np.ones(3)\n",
    "SY = S @ Y\n",
    "print(SY)\n",
    "print(SY / 15)"
   ]
  },
  {
   "cell_type": "code",
   "execution_count": 6,
   "metadata": {},
   "outputs": [
    {
     "name": "stdout",
     "output_type": "stream",
     "text": [
      "13/12\n"
     ]
    },
    {
     "data": {
      "text/plain": [
       "1.0833333333333333"
      ]
     },
     "execution_count": 6,
     "metadata": {},
     "output_type": "execute_result"
    }
   ],
   "source": [
    "from fractions import Fraction\n",
    "\n",
    "print(Fraction(16.25) / 15)\n",
    "13 / 12"
   ]
  }
 ],
 "metadata": {
  "kernelspec": {
   "display_name": "Python 3.9.7 64-bit",
   "language": "python",
   "name": "python3"
  },
  "language_info": {
   "codemirror_mode": {
    "name": "ipython",
    "version": 3
   },
   "file_extension": ".py",
   "mimetype": "text/x-python",
   "name": "python",
   "nbconvert_exporter": "python",
   "pygments_lexer": "ipython3",
   "version": "3.9.7"
  },
  "orig_nbformat": 4,
  "vscode": {
   "interpreter": {
    "hash": "463c90d9fa99ace8fcfa4ae88d83387c9bd24a41b2fbbf1969a478a7db677338"
   }
  }
 },
 "nbformat": 4,
 "nbformat_minor": 2
}
